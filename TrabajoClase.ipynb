{
 "cells": [
  {
   "cell_type": "code",
   "execution_count": 35,
   "metadata": {
    "colab": {
     "base_uri": "https://localhost:8080/"
    },
    "executionInfo": {
     "elapsed": 4,
     "status": "ok",
     "timestamp": 1756689494845,
     "user": {
      "displayName": "Fernando Salcedo",
      "userId": "16944797312281103645"
     },
     "user_tz": 360
    },
    "id": "v1_tPTEnQxx9",
    "outputId": "98ea4f9d-47a9-43e5-ba33-f29234455c59"
   },
   "outputs": [
    {
     "name": "stdout",
     "output_type": "stream",
     "text": [
      "[2, 3, 5, 7, 11, 13]\n"
     ]
    }
   ],
   "source": [
    "def es_primo(n):\n",
    "  if n < 2:\n",
    "    return False\n",
    "  for i in range(2, n):\n",
    "    if n % i == 0:\n",
    "      return False\n",
    "  return True\n",
    "def primos(n):\n",
    "  primos = []\n",
    "  for i in range(2, n):\n",
    "    if es_primo(i):\n",
    "      primos.append(i)\n",
    "  return primos\n",
    "print(primos(15))\n",
    "#El número 1 no es primo a diferencia del 2 que es primo y par"
   ]
  },
  {
   "cell_type": "markdown",
   "metadata": {
    "id": "rpg9ky673D4s"
   },
   "source": [
    "# Versiones optimizadas\n",
    "## Sin librerias (Version optimizada)\n",
    "```\n",
    "import math\n",
    "def es_primo(n: int) -> bool:\n",
    "    if n < 2:\n",
    "        return False\n",
    "    if n == 2:\n",
    "        return True\n",
    "    if n % 2 == 0:\n",
    "        return False\n",
    "    limite = int(math.sqrt(n)) + 1\n",
    "    for i in range(3, limite, 2):\n",
    "        if n % i == 0:\n",
    "            return False\n",
    "    return True\n",
    "\n",
    "def primos(n: int):\n",
    "    return [i for i in range(2, n) if es_primo(i)]\n",
    "\n",
    "print(primos(15))\n",
    "```\n",
    "## Ultra-optimizada con NumPy (Criba de Eratóstenes)\n",
    "```\n",
    "import numpy as np\n",
    "def primos(n: int) -> np.ndarray:\n",
    "    if n <= 2:\n",
    "        return np.array([], dtype=int)\n",
    "\n",
    "    es_primo = np.ones(n, dtype=bool)\n",
    "    es_primo[:2] = False\n",
    "    limite = int(np.sqrt(n)) + 1\n",
    "\n",
    "    for i in range(2, limite):\n",
    "        if es_primo[i]:\n",
    "            es_primo[i*i:n:i] = False\n",
    "\n",
    "    return np.flatnonzero(es_primo)\n",
    "\n",
    "print(primos(15))\n",
    "```\n",
    "## Comentarios\n",
    "La primera version si la utilizaria ya que simplemente es agregar algo de logica matematica al codigo. Ej: El sqrt para no ciclar en números innecesarios\n",
    "\n",
    "En la segunda versión, tambien la utilizaría. Claro que necesitaba del conocimiento de la Criba de Eratóstenes y más practica en el uso de librerias para optar por ellas. Creo funciona más esta version para números mayores al millon"
   ]
  }
 ],
 "metadata": {
  "colab": {
   "authorship_tag": "ABX9TyPUNBB0MKs7zVDhD+ibFsZA",
   "provenance": []
  },
  "kernelspec": {
   "display_name": "Python 3",
   "name": "python3"
  },
  "language_info": {
   "name": "python"
  }
 },
 "nbformat": 4,
 "nbformat_minor": 0
}
