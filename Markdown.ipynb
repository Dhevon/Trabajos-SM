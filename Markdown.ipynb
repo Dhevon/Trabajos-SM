{
 "cells": [
  {
   "cell_type": "markdown",
   "id": "e9693224",
   "metadata": {},
   "source": [
    "# Tarea 0.1 - Presentación y resumen de artículo en Markdown"
   ]
  },
  {
   "cell_type": "markdown",
   "id": "a88ef336",
   "metadata": {},
   "source": [
    "## **Presentación**\n",
    "Mi nombre es Fernando Salcedo Renteria 😁\n",
    "Tengo la edad de 21 años, cumpliendo el dia 14 de febrero de 2004. Estoy cursando ingeniería en Nanotecnología en *ITESO* en séptimo semestre con fé en terminarla en 9 semestres. Menciono con fé ya que con si me voy de intercambio, no sera asi.\n",
    "Apesar de ello, deseo irme de intercambio ya que me interesan diferentes materias que se ofertan en otras universidades para lo que busco, razones de las cuales son (en orden de prioridad):\n",
    "\n",
    "1. Gusto por los semiconductores\n",
    "2. Interés por Fotónica/Óptica\n",
    "3. Querer aprender a mayor profundidad\n",
    "4. Experiencia del intercambio\n",
    "5. ~~Cerveza~~\n",
    "\n",
    "### Datos biologicos, necesario o inecesarios\n",
    "\n",
    "* ~~1.68~~ 1.70 metros de altura\n",
    "* Escoliosis leve\n",
    "* Hombre\n",
    "* Déficit de atención\n",
    "* Le gusta cocinar\n",
    "* No ha progresado en el gimnasio\n",
    "* Expediente\n",
    "    * 745536"
   ]
  },
  {
   "cell_type": "markdown",
   "id": "3efaf1a8",
   "metadata": {},
   "source": [
    "##  Noticia/Artículo\n",
    "Hace menos de **1 mes** el youtuber mexicano Juan Pablo Fuentes conocido como *Yanpol* fue agredido y asaltado por un delincuente en **Bruselas**. Este acontecimiento sucedio el día **21 de Julio de 2025**.\n",
    "\n",
    "Yanpol afirma que anteriormente le adviertieron sobre europa, advertencias provenientes de un amigo suyo español mencionando: *LATAM no es tan LATAM y Europa no es tan Europa*. Remarcando que la seguridad de Europa se equipara al de México en zonas turisticas.\n",
    "\n",
    "### Links\n",
    "[Nota](https://www.infobae.com/mexico/2025/07/22/youtuber-mexicano-sufre-intento-de-asalto-en-bruselas-durante-transmision-en-vivo-video/)\n",
    "\n",
    "[Youtube](https://youtu.be/f123upyTE1g?si=GP-2oyh2vMNrnY1W)"
   ]
  }
 ],
 "metadata": {
  "kernelspec": {
   "display_name": "Python 3",
   "language": "python",
   "name": "python3"
  },
  "language_info": {
   "codemirror_mode": {
    "name": "ipython",
    "version": 3
   },
   "file_extension": ".py",
   "mimetype": "text/x-python",
   "name": "python",
   "nbconvert_exporter": "python",
   "pygments_lexer": "ipython3",
   "version": "3.13.0"
  }
 },
 "nbformat": 4,
 "nbformat_minor": 5
}
